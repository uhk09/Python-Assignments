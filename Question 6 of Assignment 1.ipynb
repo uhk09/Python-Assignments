{
 "cells": [
  {
   "cell_type": "code",
   "execution_count": 1,
   "metadata": {},
   "outputs": [
    {
     "name": "stdout",
     "output_type": "stream",
     "text": [
      "Enter your first name please:Uzair Hasan\n",
      "Enter your last name please:Khan\n",
      "Uzair Hasan Khan\n"
     ]
    }
   ],
   "source": [
    "first_name = input(\"Enter your first name please:\")\n",
    "last_name = input(\"Enter your last name please:\")\n",
    "\n",
    "print(first_name + \" \" +last_name)"
   ]
  },
  {
   "cell_type": "code",
   "execution_count": null,
   "metadata": {},
   "outputs": [],
   "source": []
  }
 ],
 "metadata": {
  "kernelspec": {
   "display_name": "Python 3",
   "language": "python",
   "name": "python3"
  },
  "language_info": {
   "codemirror_mode": {
    "name": "ipython",
    "version": 3
   },
   "file_extension": ".py",
   "mimetype": "text/x-python",
   "name": "python",
   "nbconvert_exporter": "python",
   "pygments_lexer": "ipython3",
   "version": "3.7.4"
  }
 },
 "nbformat": 4,
 "nbformat_minor": 2
}
